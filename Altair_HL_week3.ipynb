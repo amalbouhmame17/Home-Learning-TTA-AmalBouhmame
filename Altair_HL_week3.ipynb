{
  "nbformat": 4,
  "nbformat_minor": 0,
  "metadata": {
    "colab": {
      "name": "Altair HL week3.ipynb",
      "private_outputs": true,
      "provenance": [],
      "authorship_tag": "ABX9TyPL3vVQTGLYGBpFsxj/rWjG",
      "include_colab_link": true
    },
    "kernelspec": {
      "name": "python3",
      "display_name": "Python 3"
    },
    "language_info": {
      "name": "python"
    }
  },
  "cells": [
    {
      "cell_type": "markdown",
      "metadata": {
        "id": "view-in-github",
        "colab_type": "text"
      },
      "source": [
        "<a href=\"https://colab.research.google.com/github/amalbouhmame17/Home-Learning-TTA-AmalBouhmame/blob/main/Altair_HL_week3.ipynb\" target=\"_parent\"><img src=\"https://colab.research.google.com/assets/colab-badge.svg\" alt=\"Open In Colab\"/></a>"
      ]
    },
    {
      "cell_type": "code",
      "metadata": {
        "id": "GfguWg3Nduge"
      },
      "source": [
        ""
      ],
      "execution_count": null,
      "outputs": []
    },
    {
      "cell_type": "markdown",
      "metadata": {
        "id": "UQyO7HIXfTKe"
      },
      "source": [
        ""
      ]
    },
    {
      "cell_type": "code",
      "metadata": {
        "id": "KPY9FJVsfV_U"
      },
      "source": [
        "!pip install altair\n",
        "!pip install vega_datasets"
      ],
      "execution_count": null,
      "outputs": []
    },
    {
      "cell_type": "code",
      "metadata": {
        "id": "EsM7idjreRhe"
      },
      "source": [
        "import altair as alt\n",
        "import pandas as pd\n"
      ],
      "execution_count": null,
      "outputs": []
    },
    {
      "cell_type": "code",
      "metadata": {
        "id": "E6Jf_DQ6kZ1M"
      },
      "source": [
        "csv_url = 'https://archive.ics.uci.edu/ml/machine-learning-databases/00537/sobar-72.csv'\n",
        "df = pd.read_csv(csv_url, na_filter=0)\n",
        "df"
      ],
      "execution_count": null,
      "outputs": []
    },
    {
      "cell_type": "markdown",
      "metadata": {
        "id": "-ysnuZ3cnBAv"
      },
      "source": [
        "Visualization \n"
      ]
    },
    {
      "cell_type": "code",
      "metadata": {
        "id": "eOACq4W6oeHl"
      },
      "source": [
        "alt.Chart(df).mark_point(size=12)"
      ],
      "execution_count": null,
      "outputs": []
    },
    {
      "cell_type": "code",
      "metadata": {
        "id": "8rJZZwqwqZVU"
      },
      "source": [
        "alt.Chart(df).mark_point().encode(\n",
        "    x = 'behavior_personalHygine'        \n",
        ")"
      ],
      "execution_count": null,
      "outputs": []
    },
    {
      "cell_type": "code",
      "metadata": {
        "id": "BEqyPZwJcu6h"
      },
      "source": [
        "alt.Chart(df).mark_point().encode(\n",
        "    \n",
        "    y = 'empowerment_knowledge'        \n",
        ")"
      ],
      "execution_count": null,
      "outputs": []
    },
    {
      "cell_type": "code",
      "metadata": {
        "id": "mA_c7gcxyJpF"
      },
      "source": [
        "alt.Chart(df).mark_bar().encode(\n",
        "    x = 'behavior_personalHygine',\n",
        "    y = 'empowerment_knowledge'        \n",
        ")"
      ],
      "execution_count": null,
      "outputs": []
    },
    {
      "cell_type": "code",
      "metadata": {
        "id": "luZVtZl13GL-"
      },
      "source": [
        "alt.Chart(df).mark_bar().encode(\n",
        "    x = alt.X('behavior_personalHygine',bin=True),\n",
        "    y = 'empowerment_knowledge',\n",
        "    color =  'attitude_spontaneity'      \n",
        ")"
      ],
      "execution_count": null,
      "outputs": []
    },
    {
      "cell_type": "code",
      "metadata": {
        "id": "lR_Lvr9g8bIn"
      },
      "source": [
        "alt.Chart(df).mark_bar().encode(\n",
        "    x = alt.X('behavior_personalHygine',bin=alt.Bin(maxbins=30)),\n",
        "    y = 'empowerment_knowledge',\n",
        "    color =  'attitude_spontaneity',\n",
        "    column = \"attitude_spontaneity\"      \n",
        ")"
      ],
      "execution_count": null,
      "outputs": []
    },
    {
      "cell_type": "code",
      "metadata": {
        "id": "IjGsDA375z2_"
      },
      "source": [
        "alt.Chart(df).mark_point().encode(\n",
        "    x = alt.X('behavior_personalHygine',bin=False),\n",
        "    y = 'socialSupport_appreciation'        \n",
        ")"
      ],
      "execution_count": null,
      "outputs": []
    },
    {
      "cell_type": "markdown",
      "metadata": {
        "id": "OvxnqpOyYP5W"
      },
      "source": [
        "Interactive"
      ]
    },
    {
      "cell_type": "code",
      "metadata": {
        "id": "lt1XiOoiCE5X"
      },
      "source": [
        "alt.Chart(df).mark_bar().encode(\n",
        "    x = alt.X('behavior_personalHygine',) ,\n",
        "    y = 'empowerment_knowledge' ,\n",
        "    color =  'attitude_spontaneity'      \n",
        ").interactive()"
      ],
      "execution_count": null,
      "outputs": []
    }
  ]
}